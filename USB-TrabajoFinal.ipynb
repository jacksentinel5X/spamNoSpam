{
 "cells": [
  {
   "cell_type": "code",
   "execution_count": 1,
   "id": "immediate-dating",
   "metadata": {},
   "outputs": [],
   "source": [
    "#Universidad Simon Bolivar\n",
    "#Ejemplo de Ejecución del Clasificación de Span y No Span\n",
    "# Utilizando Naive Bayes classifier\n",
    "#Jaime Benavides Esquivel\n"
   ]
  }
 ],
 "metadata": {
  "kernelspec": {
   "display_name": "Python 3",
   "language": "python",
   "name": "python3"
  },
  "language_info": {
   "codemirror_mode": {
    "name": "ipython",
    "version": 3
   },
   "file_extension": ".py",
   "mimetype": "text/x-python",
   "name": "python",
   "nbconvert_exporter": "python",
   "pygments_lexer": "ipython3",
   "version": "3.8.7"
  }
 },
 "nbformat": 4,
 "nbformat_minor": 5
}
